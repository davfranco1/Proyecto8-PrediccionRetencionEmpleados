{
 "cells": [
  {
   "cell_type": "code",
   "execution_count": 2,
   "metadata": {},
   "outputs": [],
   "source": [
    "import requests\n",
    "import pandas as pd\n",
    "import json\n",
    "import pickle"
   ]
  },
  {
   "cell_type": "markdown",
   "metadata": {},
   "source": [
    "## Pruebas de API"
   ]
  },
  {
   "cell_type": "markdown",
   "metadata": {},
   "source": [
    "- Definimos un diccionario de prueba."
   ]
  },
  {
   "cell_type": "code",
   "execution_count": 3,
   "metadata": {},
   "outputs": [],
   "source": [
    "datos = {\n",
    "    'Age': float(30),\n",
    "    'BusinessTravel': str('Travel_Rarely'),\n",
    "    'Department': str('Sales'),\n",
    "    'DistanceFromHome': float(1),\n",
    "    'Education': str('Below College'),\n",
    "    'EducationField': str('Life Sciences'),\n",
    "    'Gender': str('Female'),\n",
    "    'JobLevel': str(1),\n",
    "    'JobRole': str('Healthcare Representative'),\n",
    "    'MaritalStatus': str('Married'),\n",
    "    'MonthlyIncome': float(300000),\n",
    "    'NumCompaniesWorked': float(1),\n",
    "    'PercentSalaryHike': float(11),\n",
    "    'StockOptionLevel': str(0),\n",
    "    'TotalWorkingYears': float(1),\n",
    "    'TrainingTimesLastYear': str(1),\n",
    "    'YearsAtCompany': float(1),\n",
    "    'YearsSinceLastPromotion': float(1),\n",
    "    'YearsWithCurrManager': float(1),\n",
    "    'EnvironmentSatisfaction': str(1),\n",
    "    'JobSatisfaction': str(1),\n",
    "    'WorkLifeBalance': str(1),\n",
    "    'JobInvolvement': str(1),\n",
    "    'PerformanceRating': str(3),\n",
    "}\n",
    "\n"
   ]
  },
  {
   "cell_type": "markdown",
   "metadata": {},
   "source": [
    "- Lo convertimos en dataframe."
   ]
  },
  {
   "cell_type": "code",
   "execution_count": 6,
   "metadata": {},
   "outputs": [
    {
     "data": {
      "text/html": [
       "<div>\n",
       "<style scoped>\n",
       "    .dataframe tbody tr th:only-of-type {\n",
       "        vertical-align: middle;\n",
       "    }\n",
       "\n",
       "    .dataframe tbody tr th {\n",
       "        vertical-align: top;\n",
       "    }\n",
       "\n",
       "    .dataframe thead th {\n",
       "        text-align: right;\n",
       "    }\n",
       "</style>\n",
       "<table border=\"1\" class=\"dataframe\">\n",
       "  <thead>\n",
       "    <tr style=\"text-align: right;\">\n",
       "      <th></th>\n",
       "      <th>Age</th>\n",
       "      <th>BusinessTravel</th>\n",
       "      <th>Department</th>\n",
       "      <th>DistanceFromHome</th>\n",
       "      <th>Education</th>\n",
       "      <th>EducationField</th>\n",
       "      <th>Gender</th>\n",
       "      <th>JobLevel</th>\n",
       "      <th>JobRole</th>\n",
       "      <th>MaritalStatus</th>\n",
       "      <th>...</th>\n",
       "      <th>TotalWorkingYears</th>\n",
       "      <th>TrainingTimesLastYear</th>\n",
       "      <th>YearsAtCompany</th>\n",
       "      <th>YearsSinceLastPromotion</th>\n",
       "      <th>YearsWithCurrManager</th>\n",
       "      <th>EnvironmentSatisfaction</th>\n",
       "      <th>JobSatisfaction</th>\n",
       "      <th>WorkLifeBalance</th>\n",
       "      <th>JobInvolvement</th>\n",
       "      <th>PerformanceRating</th>\n",
       "    </tr>\n",
       "  </thead>\n",
       "  <tbody>\n",
       "    <tr>\n",
       "      <th>0</th>\n",
       "      <td>30.0</td>\n",
       "      <td>Travel_Rarely</td>\n",
       "      <td>Sales</td>\n",
       "      <td>1.0</td>\n",
       "      <td>Below College</td>\n",
       "      <td>Life Sciences</td>\n",
       "      <td>Female</td>\n",
       "      <td>1</td>\n",
       "      <td>Healthcare Representative</td>\n",
       "      <td>Married</td>\n",
       "      <td>...</td>\n",
       "      <td>1.0</td>\n",
       "      <td>1</td>\n",
       "      <td>1.0</td>\n",
       "      <td>1.0</td>\n",
       "      <td>1.0</td>\n",
       "      <td>1</td>\n",
       "      <td>1</td>\n",
       "      <td>1</td>\n",
       "      <td>1</td>\n",
       "      <td>3</td>\n",
       "    </tr>\n",
       "  </tbody>\n",
       "</table>\n",
       "<p>1 rows × 24 columns</p>\n",
       "</div>"
      ],
      "text/plain": [
       "    Age BusinessTravel Department  DistanceFromHome      Education  \\\n",
       "0  30.0  Travel_Rarely      Sales               1.0  Below College   \n",
       "\n",
       "  EducationField  Gender JobLevel                    JobRole MaritalStatus  \\\n",
       "0  Life Sciences  Female        1  Healthcare Representative       Married   \n",
       "\n",
       "   ...  TotalWorkingYears  TrainingTimesLastYear  YearsAtCompany  \\\n",
       "0  ...                1.0                      1             1.0   \n",
       "\n",
       "  YearsSinceLastPromotion  YearsWithCurrManager EnvironmentSatisfaction  \\\n",
       "0                     1.0                   1.0                       1   \n",
       "\n",
       "   JobSatisfaction  WorkLifeBalance  JobInvolvement PerformanceRating  \n",
       "0                1                1               1                 3  \n",
       "\n",
       "[1 rows x 24 columns]"
      ]
     },
     "execution_count": 6,
     "metadata": {},
     "output_type": "execute_result"
    }
   ],
   "source": [
    "df_consulta = pd.DataFrame(datos, index=[0])\n",
    "df_consulta"
   ]
  },
  {
   "cell_type": "markdown",
   "metadata": {},
   "source": [
    "- Y en diccionario, dado que es el formato en el que las APIs envían y reciben información."
   ]
  },
  {
   "cell_type": "code",
   "execution_count": null,
   "metadata": {},
   "outputs": [],
   "source": [
    "json_consulta = json.dumps(df_consulta.iloc[0].to_dict())"
   ]
  },
  {
   "cell_type": "markdown",
   "metadata": {},
   "source": [
    "- Usamos 'post' para enviar información a la API (nuestro diccionario con los datos para la predicción)."
   ]
  },
  {
   "cell_type": "code",
   "execution_count": 209,
   "metadata": {},
   "outputs": [],
   "source": [
    "res = requests.post(\"http://127.0.0.1:5000/predict\", json= datos)"
   ]
  },
  {
   "cell_type": "markdown",
   "metadata": {},
   "source": [
    "- Y vemos que recibimos una respuesta, que es son los valores de la predicción (riesgo y probabilidad)."
   ]
  },
  {
   "cell_type": "code",
   "execution_count": 211,
   "metadata": {},
   "outputs": [
    {
     "data": {
      "text/plain": [
       "{'attrition_risk': 'No', 'probability': 0.0}"
      ]
     },
     "execution_count": 211,
     "metadata": {},
     "output_type": "execute_result"
    }
   ],
   "source": [
    "res.json()"
   ]
  },
  {
   "cell_type": "markdown",
   "metadata": {},
   "source": [
    "## Pruebas de encoder, scaler y modelo"
   ]
  },
  {
   "cell_type": "markdown",
   "metadata": {},
   "source": [
    "- Cargamos los elementos generados como archivos pickle y creamos un dataframe con el diccionario de 'datos'."
   ]
  },
  {
   "cell_type": "code",
   "execution_count": 13,
   "metadata": {},
   "outputs": [
    {
     "name": "stdout",
     "output_type": "stream",
     "text": [
      "Encoder cargado correctamente.\n",
      "Scaler cargado correctamente.\n",
      "Modelo cargado correctamente.\n"
     ]
    }
   ],
   "source": [
    "# Cargar los archivos pickle (encoder, scaler y modelo)\n",
    "with open('../transformers/encoder.pkl', 'rb') as file:\n",
    "    encoder = pickle.load(file)\n",
    "    print(\"Encoder cargado correctamente.\")\n",
    "\n",
    "with open('../transformers/scaler.pkl', 'rb') as file:\n",
    "    scaler = pickle.load(file)\n",
    "    print(\"Scaler cargado correctamente.\")\n",
    "\n",
    "with open('../transformers/model.pkl', 'rb') as file:\n",
    "    model = pickle.load(file)\n",
    "    print(\"Modelo cargado correctamente.\")"
   ]
  },
  {
   "cell_type": "code",
   "execution_count": 14,
   "metadata": {},
   "outputs": [
    {
     "data": {
      "text/html": [
       "<div>\n",
       "<style scoped>\n",
       "    .dataframe tbody tr th:only-of-type {\n",
       "        vertical-align: middle;\n",
       "    }\n",
       "\n",
       "    .dataframe tbody tr th {\n",
       "        vertical-align: top;\n",
       "    }\n",
       "\n",
       "    .dataframe thead th {\n",
       "        text-align: right;\n",
       "    }\n",
       "</style>\n",
       "<table border=\"1\" class=\"dataframe\">\n",
       "  <thead>\n",
       "    <tr style=\"text-align: right;\">\n",
       "      <th></th>\n",
       "      <th>Age</th>\n",
       "      <th>BusinessTravel</th>\n",
       "      <th>Department</th>\n",
       "      <th>DistanceFromHome</th>\n",
       "      <th>Education</th>\n",
       "      <th>EducationField</th>\n",
       "      <th>Gender</th>\n",
       "      <th>JobLevel</th>\n",
       "      <th>JobRole</th>\n",
       "      <th>MaritalStatus</th>\n",
       "      <th>...</th>\n",
       "      <th>TotalWorkingYears</th>\n",
       "      <th>TrainingTimesLastYear</th>\n",
       "      <th>YearsAtCompany</th>\n",
       "      <th>YearsSinceLastPromotion</th>\n",
       "      <th>YearsWithCurrManager</th>\n",
       "      <th>EnvironmentSatisfaction</th>\n",
       "      <th>JobSatisfaction</th>\n",
       "      <th>WorkLifeBalance</th>\n",
       "      <th>JobInvolvement</th>\n",
       "      <th>PerformanceRating</th>\n",
       "    </tr>\n",
       "  </thead>\n",
       "  <tbody>\n",
       "    <tr>\n",
       "      <th>0</th>\n",
       "      <td>30.0</td>\n",
       "      <td>Travel_Rarely</td>\n",
       "      <td>Sales</td>\n",
       "      <td>1.0</td>\n",
       "      <td>Below College</td>\n",
       "      <td>Life Sciences</td>\n",
       "      <td>Female</td>\n",
       "      <td>1</td>\n",
       "      <td>Healthcare Representative</td>\n",
       "      <td>Married</td>\n",
       "      <td>...</td>\n",
       "      <td>1.0</td>\n",
       "      <td>1</td>\n",
       "      <td>1.0</td>\n",
       "      <td>1.0</td>\n",
       "      <td>1.0</td>\n",
       "      <td>1</td>\n",
       "      <td>1</td>\n",
       "      <td>1</td>\n",
       "      <td>1</td>\n",
       "      <td>3</td>\n",
       "    </tr>\n",
       "  </tbody>\n",
       "</table>\n",
       "<p>1 rows × 24 columns</p>\n",
       "</div>"
      ],
      "text/plain": [
       "    Age BusinessTravel Department  DistanceFromHome      Education  \\\n",
       "0  30.0  Travel_Rarely      Sales               1.0  Below College   \n",
       "\n",
       "  EducationField  Gender JobLevel                    JobRole MaritalStatus  \\\n",
       "0  Life Sciences  Female        1  Healthcare Representative       Married   \n",
       "\n",
       "   ...  TotalWorkingYears  TrainingTimesLastYear  YearsAtCompany  \\\n",
       "0  ...                1.0                      1             1.0   \n",
       "\n",
       "  YearsSinceLastPromotion  YearsWithCurrManager EnvironmentSatisfaction  \\\n",
       "0                     1.0                   1.0                       1   \n",
       "\n",
       "   JobSatisfaction  WorkLifeBalance  JobInvolvement PerformanceRating  \n",
       "0                1                1               1                 3  \n",
       "\n",
       "[1 rows x 24 columns]"
      ]
     },
     "execution_count": 14,
     "metadata": {},
     "output_type": "execute_result"
    }
   ],
   "source": [
    "df = pd.DataFrame([datos])\n",
    "df"
   ]
  },
  {
   "cell_type": "markdown",
   "metadata": {},
   "source": [
    "- Vamos a comprobar también que el encoder y el scaler contengan las columnas correctas."
   ]
  },
  {
   "cell_type": "code",
   "execution_count": 15,
   "metadata": {},
   "outputs": [
    {
     "data": {
      "text/plain": [
       "['Gender',\n",
       " 'Education',\n",
       " 'JobLevel',\n",
       " 'StockOptionLevel',\n",
       " 'PerformanceRating',\n",
       " 'BusinessTravel',\n",
       " 'Department',\n",
       " 'EducationField',\n",
       " 'JobRole',\n",
       " 'MaritalStatus',\n",
       " 'TrainingTimesLastYear',\n",
       " 'EnvironmentSatisfaction',\n",
       " 'JobSatisfaction',\n",
       " 'WorkLifeBalance',\n",
       " 'JobInvolvement']"
      ]
     },
     "execution_count": 15,
     "metadata": {},
     "output_type": "execute_result"
    }
   ],
   "source": [
    "encoder.cols"
   ]
  },
  {
   "cell_type": "code",
   "execution_count": 16,
   "metadata": {},
   "outputs": [
    {
     "data": {
      "text/plain": [
       "array(['Age', 'DistanceFromHome', 'MonthlyIncome', 'NumCompaniesWorked',\n",
       "       'PercentSalaryHike', 'TotalWorkingYears', 'YearsAtCompany',\n",
       "       'YearsSinceLastPromotion', 'YearsWithCurrManager'], dtype=object)"
      ]
     },
     "execution_count": 16,
     "metadata": {},
     "output_type": "execute_result"
    }
   ],
   "source": [
    "scaler.get_feature_names_out()"
   ]
  },
  {
   "cell_type": "markdown",
   "metadata": {},
   "source": [
    "- Creamos una columna 'dummy' en el DF, dado que el objeto del encoder espera recibir 25 columnas, y aquí tenemos solamente 24, siendo la 25 la predicción de la varible respuesta ('Attrition').\n",
    "\n",
    "- Aplicamos el encoder y eliminamos esa columna, comprobando el DF."
   ]
  },
  {
   "cell_type": "code",
   "execution_count": 8,
   "metadata": {},
   "outputs": [],
   "source": [
    "df['Attrition'] = 0  # valor temporal para el encoding\n",
    "df_encoded = encoder.transform(df)\n",
    "df_encoded.drop(columns='Attrition', inplace= True)"
   ]
  },
  {
   "cell_type": "code",
   "execution_count": 9,
   "metadata": {},
   "outputs": [
    {
     "data": {
      "text/html": [
       "<div>\n",
       "<style scoped>\n",
       "    .dataframe tbody tr th:only-of-type {\n",
       "        vertical-align: middle;\n",
       "    }\n",
       "\n",
       "    .dataframe tbody tr th {\n",
       "        vertical-align: top;\n",
       "    }\n",
       "\n",
       "    .dataframe thead th {\n",
       "        text-align: right;\n",
       "    }\n",
       "</style>\n",
       "<table border=\"1\" class=\"dataframe\">\n",
       "  <thead>\n",
       "    <tr style=\"text-align: right;\">\n",
       "      <th></th>\n",
       "      <th>Age</th>\n",
       "      <th>BusinessTravel</th>\n",
       "      <th>Department</th>\n",
       "      <th>DistanceFromHome</th>\n",
       "      <th>Education</th>\n",
       "      <th>EducationField</th>\n",
       "      <th>Gender</th>\n",
       "      <th>JobLevel</th>\n",
       "      <th>JobRole</th>\n",
       "      <th>MaritalStatus</th>\n",
       "      <th>...</th>\n",
       "      <th>TotalWorkingYears</th>\n",
       "      <th>TrainingTimesLastYear</th>\n",
       "      <th>YearsAtCompany</th>\n",
       "      <th>YearsSinceLastPromotion</th>\n",
       "      <th>YearsWithCurrManager</th>\n",
       "      <th>EnvironmentSatisfaction</th>\n",
       "      <th>JobSatisfaction</th>\n",
       "      <th>WorkLifeBalance</th>\n",
       "      <th>JobInvolvement</th>\n",
       "      <th>PerformanceRating</th>\n",
       "    </tr>\n",
       "  </thead>\n",
       "  <tbody>\n",
       "    <tr>\n",
       "      <th>0</th>\n",
       "      <td>30.0</td>\n",
       "      <td>0.145815</td>\n",
       "      <td>0.147368</td>\n",
       "      <td>1.0</td>\n",
       "      <td>0.159847</td>\n",
       "      <td>0.164869</td>\n",
       "      <td>0.15235</td>\n",
       "      <td>0.147766</td>\n",
       "      <td>0.144828</td>\n",
       "      <td>0.117483</td>\n",
       "      <td>...</td>\n",
       "      <td>1.0</td>\n",
       "      <td>0.146667</td>\n",
       "      <td>1.0</td>\n",
       "      <td>1.0</td>\n",
       "      <td>1.0</td>\n",
       "      <td>0.159847</td>\n",
       "      <td>0.159847</td>\n",
       "      <td>0.159847</td>\n",
       "      <td>0.215909</td>\n",
       "      <td>0.156863</td>\n",
       "    </tr>\n",
       "  </tbody>\n",
       "</table>\n",
       "<p>1 rows × 24 columns</p>\n",
       "</div>"
      ],
      "text/plain": [
       "    Age  BusinessTravel  Department  DistanceFromHome  Education  \\\n",
       "0  30.0        0.145815    0.147368               1.0   0.159847   \n",
       "\n",
       "   EducationField   Gender  JobLevel   JobRole  MaritalStatus  ...  \\\n",
       "0        0.164869  0.15235  0.147766  0.144828       0.117483  ...   \n",
       "\n",
       "   TotalWorkingYears  TrainingTimesLastYear  YearsAtCompany  \\\n",
       "0                1.0               0.146667             1.0   \n",
       "\n",
       "   YearsSinceLastPromotion  YearsWithCurrManager  EnvironmentSatisfaction  \\\n",
       "0                      1.0                   1.0                 0.159847   \n",
       "\n",
       "   JobSatisfaction  WorkLifeBalance  JobInvolvement  PerformanceRating  \n",
       "0         0.159847         0.159847        0.215909           0.156863  \n",
       "\n",
       "[1 rows x 24 columns]"
      ]
     },
     "execution_count": 9,
     "metadata": {},
     "output_type": "execute_result"
    }
   ],
   "source": [
    "df_encoded"
   ]
  },
  {
   "cell_type": "markdown",
   "metadata": {},
   "source": [
    "- Aplicaremos ahora nuestro escalador a las columnas numéricas. Contrario al encoder, aquí debemos indicarle cuáles son las columnas que debe transformar.\n",
    "\n",
    "- Comprobamos que tenemos nuestro DF codificado y estandarizado."
   ]
  },
  {
   "cell_type": "code",
   "execution_count": null,
   "metadata": {},
   "outputs": [],
   "source": [
    "col_num=['Age', 'DistanceFromHome', 'MonthlyIncome', 'NumCompaniesWorked',\n",
    "    'PercentSalaryHike', 'TotalWorkingYears', 'YearsAtCompany',\n",
    "    'YearsSinceLastPromotion', 'YearsWithCurrManager']\n",
    "\n",
    "df_encoded[col_num] = scaler.transform(df_encoded[col_num])"
   ]
  },
  {
   "cell_type": "code",
   "execution_count": 11,
   "metadata": {},
   "outputs": [
    {
     "data": {
      "text/html": [
       "<div>\n",
       "<style scoped>\n",
       "    .dataframe tbody tr th:only-of-type {\n",
       "        vertical-align: middle;\n",
       "    }\n",
       "\n",
       "    .dataframe tbody tr th {\n",
       "        vertical-align: top;\n",
       "    }\n",
       "\n",
       "    .dataframe thead th {\n",
       "        text-align: right;\n",
       "    }\n",
       "</style>\n",
       "<table border=\"1\" class=\"dataframe\">\n",
       "  <thead>\n",
       "    <tr style=\"text-align: right;\">\n",
       "      <th></th>\n",
       "      <th>Age</th>\n",
       "      <th>BusinessTravel</th>\n",
       "      <th>Department</th>\n",
       "      <th>DistanceFromHome</th>\n",
       "      <th>Education</th>\n",
       "      <th>EducationField</th>\n",
       "      <th>Gender</th>\n",
       "      <th>JobLevel</th>\n",
       "      <th>JobRole</th>\n",
       "      <th>MaritalStatus</th>\n",
       "      <th>...</th>\n",
       "      <th>TotalWorkingYears</th>\n",
       "      <th>TrainingTimesLastYear</th>\n",
       "      <th>YearsAtCompany</th>\n",
       "      <th>YearsSinceLastPromotion</th>\n",
       "      <th>YearsWithCurrManager</th>\n",
       "      <th>EnvironmentSatisfaction</th>\n",
       "      <th>JobSatisfaction</th>\n",
       "      <th>WorkLifeBalance</th>\n",
       "      <th>JobInvolvement</th>\n",
       "      <th>PerformanceRating</th>\n",
       "    </tr>\n",
       "  </thead>\n",
       "  <tbody>\n",
       "    <tr>\n",
       "      <th>0</th>\n",
       "      <td>-0.747889</td>\n",
       "      <td>0.145815</td>\n",
       "      <td>0.147368</td>\n",
       "      <td>-1.003804</td>\n",
       "      <td>0.159847</td>\n",
       "      <td>0.164869</td>\n",
       "      <td>0.15235</td>\n",
       "      <td>0.147766</td>\n",
       "      <td>0.144828</td>\n",
       "      <td>0.117483</td>\n",
       "      <td>...</td>\n",
       "      <td>-1.339221</td>\n",
       "      <td>0.146667</td>\n",
       "      <td>-1.002783</td>\n",
       "      <td>-0.361313</td>\n",
       "      <td>-0.870216</td>\n",
       "      <td>0.159847</td>\n",
       "      <td>0.159847</td>\n",
       "      <td>0.159847</td>\n",
       "      <td>0.215909</td>\n",
       "      <td>0.156863</td>\n",
       "    </tr>\n",
       "  </tbody>\n",
       "</table>\n",
       "<p>1 rows × 24 columns</p>\n",
       "</div>"
      ],
      "text/plain": [
       "        Age  BusinessTravel  Department  DistanceFromHome  Education  \\\n",
       "0 -0.747889        0.145815    0.147368         -1.003804   0.159847   \n",
       "\n",
       "   EducationField   Gender  JobLevel   JobRole  MaritalStatus  ...  \\\n",
       "0        0.164869  0.15235  0.147766  0.144828       0.117483  ...   \n",
       "\n",
       "   TotalWorkingYears  TrainingTimesLastYear  YearsAtCompany  \\\n",
       "0          -1.339221               0.146667       -1.002783   \n",
       "\n",
       "   YearsSinceLastPromotion  YearsWithCurrManager  EnvironmentSatisfaction  \\\n",
       "0                -0.361313             -0.870216                 0.159847   \n",
       "\n",
       "   JobSatisfaction  WorkLifeBalance  JobInvolvement  PerformanceRating  \n",
       "0         0.159847         0.159847        0.215909           0.156863  \n",
       "\n",
       "[1 rows x 24 columns]"
      ]
     },
     "execution_count": 11,
     "metadata": {},
     "output_type": "execute_result"
    }
   ],
   "source": [
    "df_encoded"
   ]
  },
  {
   "cell_type": "markdown",
   "metadata": {},
   "source": [
    "- Con este DF, podremos realizar la predicción, siendo 0 \"No\" y 1 \"Sí\"."
   ]
  },
  {
   "cell_type": "code",
   "execution_count": 12,
   "metadata": {},
   "outputs": [
    {
     "name": "stdout",
     "output_type": "stream",
     "text": [
      "Predicción: [0.] Probabilidad: 0.0\n"
     ]
    }
   ],
   "source": [
    "prediccion = model.predict(df_encoded)\n",
    "probabilidad = model.predict_proba(df_encoded)[0, 1]\n",
    "print(\"Predicción:\", prediccion, \"Probabilidad:\", probabilidad)"
   ]
  }
 ],
 "metadata": {
  "kernelspec": {
   "display_name": "Python 3",
   "language": "python",
   "name": "python3"
  },
  "language_info": {
   "codemirror_mode": {
    "name": "ipython",
    "version": 3
   },
   "file_extension": ".py",
   "mimetype": "text/x-python",
   "name": "python",
   "nbconvert_exporter": "python",
   "pygments_lexer": "ipython3",
   "version": "3.9.6"
  }
 },
 "nbformat": 4,
 "nbformat_minor": 2
}
